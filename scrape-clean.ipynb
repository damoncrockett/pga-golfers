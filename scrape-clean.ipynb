{
 "cells": [
  {
   "cell_type": "code",
   "execution_count": 61,
   "metadata": {
    "collapsed": false
   },
   "outputs": [],
   "source": [
    "from bs4 import BeautifulSoup\n",
    "import pandas as pd\n",
    "import requests\n",
    "import string\n",
    "import sys\n",
    "import numpy as np"
   ]
  },
  {
   "cell_type": "code",
   "execution_count": null,
   "metadata": {
    "collapsed": true
   },
   "outputs": [],
   "source": [
    "DIR = \"/Users/damoncrockett/pga-golfers/\""
   ]
  },
  {
   "cell_type": "code",
   "execution_count": 54,
   "metadata": {
    "collapsed": false
   },
   "outputs": [],
   "source": [
    "letters = [item for item in string.ascii_uppercase]"
   ]
  },
  {
   "cell_type": "code",
   "execution_count": 55,
   "metadata": {
    "collapsed": true
   },
   "outputs": [],
   "source": [
    "urlstring = \"http://newsok.sportsdirectinc.com/golf/pga-players.aspx?page=/data/pga/players/\"\n",
    "urls = [urlstring + item + \"_players.html\" for item in letters]"
   ]
  },
  {
   "cell_type": "code",
   "execution_count": 56,
   "metadata": {
    "collapsed": true
   },
   "outputs": [],
   "source": [
    "counter=0\n",
    "cellstrings = []\n",
    "for url in urls:\n",
    "    counter+=1\n",
    "    page = requests.get(url).text\n",
    "    soup = BeautifulSoup(page, 'html.parser')\n",
    "    cells = soup.find_all('td', {'class' : 'sdi-datacell'})\n",
    "    cells = cells[1:]\n",
    "    for cell in cells:\n",
    "        cell = cell.get_text()\n",
    "        cell = cell.replace(\"\\n\\r\",\"\")\n",
    "        cell = \"\".join(cell.split())\n",
    "        cellstrings.append(cell)"
   ]
  },
  {
   "cell_type": "code",
   "execution_count": 96,
   "metadata": {
    "collapsed": false
   },
   "outputs": [],
   "source": [
    "df = pd.DataFrame({\n",
    "        \"name\":[cellstrings[i] for i in np.arange(0,7310,5)],\n",
    "        \"height\":[cellstrings[i] for i in np.arange(1,7310,5)],\n",
    "        \"weight\":[cellstrings[i] for i in np.arange(2,7310,5)],\n",
    "        \"dob\":[cellstrings[i] for i in np.arange(3,7310,5)],\n",
    "        \"hometown\":[cellstrings[i] for i in np.arange(4,7310,5)]\n",
    "    }\n",
    "                  )"
   ]
  },
  {
   "cell_type": "code",
   "execution_count": null,
   "metadata": {
    "collapsed": true
   },
   "outputs": [],
   "source": [
    "#df.to_csv(DIR+\"raw.csv\",index=False)"
   ]
  },
  {
   "cell_type": "code",
   "execution_count": 97,
   "metadata": {
    "collapsed": false
   },
   "outputs": [],
   "source": [
    "from dateutil import parser"
   ]
  },
  {
   "cell_type": "code",
   "execution_count": 98,
   "metadata": {
    "collapsed": false
   },
   "outputs": [],
   "source": [
    "df['dob'] = df.dob.apply(parser.parse)"
   ]
  },
  {
   "cell_type": "code",
   "execution_count": 99,
   "metadata": {
    "collapsed": false
   },
   "outputs": [],
   "source": [
    "import datetime"
   ]
  },
  {
   "cell_type": "code",
   "execution_count": 100,
   "metadata": {
    "collapsed": false
   },
   "outputs": [],
   "source": [
    "df['diff'] = [datetime.datetime.today() - item for item in df.dob]"
   ]
  },
  {
   "cell_type": "code",
   "execution_count": 101,
   "metadata": {
    "collapsed": false
   },
   "outputs": [
    {
     "data": {
      "text/html": [
       "<div>\n",
       "<table border=\"1\" class=\"dataframe\">\n",
       "  <thead>\n",
       "    <tr style=\"text-align: right;\">\n",
       "      <th></th>\n",
       "      <th>dob</th>\n",
       "      <th>height</th>\n",
       "      <th>hometown</th>\n",
       "      <th>name</th>\n",
       "      <th>weight</th>\n",
       "      <th>diff</th>\n",
       "    </tr>\n",
       "  </thead>\n",
       "  <tbody>\n",
       "    <tr>\n",
       "      <th>0</th>\n",
       "      <td>1973-01-16</td>\n",
       "      <td>6'2\"</td>\n",
       "      <td>Providence,USA</td>\n",
       "      <td>Adamonis,Brad</td>\n",
       "      <td>215lbs</td>\n",
       "      <td>16225 days 01:29:58.510372</td>\n",
       "    </tr>\n",
       "    <tr>\n",
       "      <th>1</th>\n",
       "      <td>1975-08-27</td>\n",
       "      <td>6'3\"</td>\n",
       "      <td>Bartlesville,USA</td>\n",
       "      <td>Adams,Blake</td>\n",
       "      <td>205lbs</td>\n",
       "      <td>15272 days 01:29:58.510443</td>\n",
       "    </tr>\n",
       "    <tr>\n",
       "      <th>2</th>\n",
       "      <td>1979-05-27</td>\n",
       "      <td>5'7\"</td>\n",
       "      <td>USA</td>\n",
       "      <td>AdamsIII,Frank</td>\n",
       "      <td>165lbs</td>\n",
       "      <td>13903 days 01:29:58.510490</td>\n",
       "    </tr>\n",
       "    <tr>\n",
       "      <th>3</th>\n",
       "      <td>1981-08-01</td>\n",
       "      <td>5'7\"</td>\n",
       "      <td>Chicago,USA</td>\n",
       "      <td>Affrunti,Joe</td>\n",
       "      <td>155lbs</td>\n",
       "      <td>13106 days 01:29:58.510522</td>\n",
       "    </tr>\n",
       "    <tr>\n",
       "      <th>4</th>\n",
       "      <td>2017-06-19</td>\n",
       "      <td>6'2\"</td>\n",
       "      <td>Roanoke,USA</td>\n",
       "      <td>Agee,Brian</td>\n",
       "      <td>168lbs</td>\n",
       "      <td>0 days 01:29:58.510553</td>\n",
       "    </tr>\n",
       "  </tbody>\n",
       "</table>\n",
       "</div>"
      ],
      "text/plain": [
       "         dob height          hometown            name  weight  \\\n",
       "0 1973-01-16   6'2\"    Providence,USA   Adamonis,Brad  215lbs   \n",
       "1 1975-08-27   6'3\"  Bartlesville,USA     Adams,Blake  205lbs   \n",
       "2 1979-05-27   5'7\"               USA  AdamsIII,Frank  165lbs   \n",
       "3 1981-08-01   5'7\"       Chicago,USA    Affrunti,Joe  155lbs   \n",
       "4 2017-06-19   6'2\"       Roanoke,USA      Agee,Brian  168lbs   \n",
       "\n",
       "                        diff  \n",
       "0 16225 days 01:29:58.510372  \n",
       "1 15272 days 01:29:58.510443  \n",
       "2 13903 days 01:29:58.510490  \n",
       "3 13106 days 01:29:58.510522  \n",
       "4     0 days 01:29:58.510553  "
      ]
     },
     "execution_count": 101,
     "metadata": {},
     "output_type": "execute_result"
    }
   ],
   "source": [
    "df.head()"
   ]
  },
  {
   "cell_type": "code",
   "execution_count": 102,
   "metadata": {
    "collapsed": false
   },
   "outputs": [],
   "source": [
    "df['days'] = [item / datetime.timedelta(days=1) for item in df['diff']]"
   ]
  },
  {
   "cell_type": "code",
   "execution_count": 150,
   "metadata": {
    "collapsed": false
   },
   "outputs": [],
   "source": [
    "df['years'] = [item/float(365) for item in df['days']]"
   ]
  },
  {
   "cell_type": "code",
   "execution_count": 155,
   "metadata": {
    "collapsed": false
   },
   "outputs": [],
   "source": [
    "def nullify(x):\n",
    "    if x <= 1:\n",
    "        return None\n",
    "    else:\n",
    "        return x"
   ]
  },
  {
   "cell_type": "code",
   "execution_count": 156,
   "metadata": {
    "collapsed": false
   },
   "outputs": [],
   "source": [
    "df['years'] = df.years.apply(nullify)"
   ]
  },
  {
   "cell_type": "code",
   "execution_count": 132,
   "metadata": {
    "collapsed": false
   },
   "outputs": [],
   "source": [
    "def country(x):\n",
    "    if x==\"\":\n",
    "        return None\n",
    "    else:\n",
    "        s = x.split(\",\")\n",
    "        if len(s)==1:\n",
    "            return x\n",
    "        elif len(s)==2:\n",
    "            return s[1]\n",
    "        else:\n",
    "            return None"
   ]
  },
  {
   "cell_type": "code",
   "execution_count": 133,
   "metadata": {
    "collapsed": false
   },
   "outputs": [],
   "source": [
    "df['country'] = df.hometown.apply(country)"
   ]
  },
  {
   "cell_type": "code",
   "execution_count": 161,
   "metadata": {
    "collapsed": false
   },
   "outputs": [],
   "source": [
    "def weight(x):\n",
    "    if x=='':\n",
    "        return None\n",
    "    else:\n",
    "        x = x.rstrip('lbs')\n",
    "        x = int(x)\n",
    "        return x"
   ]
  },
  {
   "cell_type": "code",
   "execution_count": 162,
   "metadata": {
    "collapsed": false
   },
   "outputs": [],
   "source": [
    "df['weight'] = df.weight.apply(weight)"
   ]
  },
  {
   "cell_type": "code",
   "execution_count": 166,
   "metadata": {
    "collapsed": false
   },
   "outputs": [],
   "source": [
    "def height(x):\n",
    "    if x=='':\n",
    "        return None\n",
    "    else:\n",
    "        x = x.rstrip('\"')\n",
    "        pair = x.split(\"'\")\n",
    "        feet = pair[0]\n",
    "        inches = pair[1]\n",
    "        total = int(feet)*12 + int(inches)\n",
    "        return total"
   ]
  },
  {
   "cell_type": "code",
   "execution_count": 168,
   "metadata": {
    "collapsed": false
   },
   "outputs": [],
   "source": [
    "df['height'] = df.height.apply(height)"
   ]
  },
  {
   "cell_type": "code",
   "execution_count": 169,
   "metadata": {
    "collapsed": false
   },
   "outputs": [
    {
     "data": {
      "text/html": [
       "<div>\n",
       "<table border=\"1\" class=\"dataframe\">\n",
       "  <thead>\n",
       "    <tr style=\"text-align: right;\">\n",
       "      <th></th>\n",
       "      <th>dob</th>\n",
       "      <th>height</th>\n",
       "      <th>hometown</th>\n",
       "      <th>name</th>\n",
       "      <th>weight</th>\n",
       "      <th>diff</th>\n",
       "      <th>days</th>\n",
       "      <th>years</th>\n",
       "      <th>country</th>\n",
       "    </tr>\n",
       "  </thead>\n",
       "  <tbody>\n",
       "    <tr>\n",
       "      <th>0</th>\n",
       "      <td>1973-01-16</td>\n",
       "      <td>74.0</td>\n",
       "      <td>Providence,USA</td>\n",
       "      <td>Adamonis,Brad</td>\n",
       "      <td>215.0</td>\n",
       "      <td>16225 days 01:29:58.510372</td>\n",
       "      <td>16225.062483</td>\n",
       "      <td>44.452226</td>\n",
       "      <td>USA</td>\n",
       "    </tr>\n",
       "    <tr>\n",
       "      <th>1</th>\n",
       "      <td>1975-08-27</td>\n",
       "      <td>75.0</td>\n",
       "      <td>Bartlesville,USA</td>\n",
       "      <td>Adams,Blake</td>\n",
       "      <td>205.0</td>\n",
       "      <td>15272 days 01:29:58.510443</td>\n",
       "      <td>15272.062483</td>\n",
       "      <td>41.841267</td>\n",
       "      <td>USA</td>\n",
       "    </tr>\n",
       "    <tr>\n",
       "      <th>2</th>\n",
       "      <td>1979-05-27</td>\n",
       "      <td>67.0</td>\n",
       "      <td>USA</td>\n",
       "      <td>AdamsIII,Frank</td>\n",
       "      <td>165.0</td>\n",
       "      <td>13903 days 01:29:58.510490</td>\n",
       "      <td>13903.062483</td>\n",
       "      <td>38.090582</td>\n",
       "      <td>USA</td>\n",
       "    </tr>\n",
       "    <tr>\n",
       "      <th>3</th>\n",
       "      <td>1981-08-01</td>\n",
       "      <td>67.0</td>\n",
       "      <td>Chicago,USA</td>\n",
       "      <td>Affrunti,Joe</td>\n",
       "      <td>155.0</td>\n",
       "      <td>13106 days 01:29:58.510522</td>\n",
       "      <td>13106.062483</td>\n",
       "      <td>35.907021</td>\n",
       "      <td>USA</td>\n",
       "    </tr>\n",
       "    <tr>\n",
       "      <th>4</th>\n",
       "      <td>2017-06-19</td>\n",
       "      <td>74.0</td>\n",
       "      <td>Roanoke,USA</td>\n",
       "      <td>Agee,Brian</td>\n",
       "      <td>168.0</td>\n",
       "      <td>0 days 01:29:58.510553</td>\n",
       "      <td>0.062483</td>\n",
       "      <td>NaN</td>\n",
       "      <td>USA</td>\n",
       "    </tr>\n",
       "  </tbody>\n",
       "</table>\n",
       "</div>"
      ],
      "text/plain": [
       "         dob  height          hometown            name  weight  \\\n",
       "0 1973-01-16    74.0    Providence,USA   Adamonis,Brad   215.0   \n",
       "1 1975-08-27    75.0  Bartlesville,USA     Adams,Blake   205.0   \n",
       "2 1979-05-27    67.0               USA  AdamsIII,Frank   165.0   \n",
       "3 1981-08-01    67.0       Chicago,USA    Affrunti,Joe   155.0   \n",
       "4 2017-06-19    74.0       Roanoke,USA      Agee,Brian   168.0   \n",
       "\n",
       "                        diff          days      years country  \n",
       "0 16225 days 01:29:58.510372  16225.062483  44.452226     USA  \n",
       "1 15272 days 01:29:58.510443  15272.062483  41.841267     USA  \n",
       "2 13903 days 01:29:58.510490  13903.062483  38.090582     USA  \n",
       "3 13106 days 01:29:58.510522  13106.062483  35.907021     USA  \n",
       "4     0 days 01:29:58.510553      0.062483        NaN     USA  "
      ]
     },
     "execution_count": 169,
     "metadata": {},
     "output_type": "execute_result"
    }
   ],
   "source": [
    "df.head()"
   ]
  },
  {
   "cell_type": "code",
   "execution_count": 170,
   "metadata": {
    "collapsed": true
   },
   "outputs": [],
   "source": [
    "tmp = df[['height','weight','years','country']]"
   ]
  },
  {
   "cell_type": "code",
   "execution_count": 172,
   "metadata": {
    "collapsed": false
   },
   "outputs": [],
   "source": [
    "tmp.to_csv(DIR+\"data.csv\",index=False)"
   ]
  }
 ],
 "metadata": {
  "kernelspec": {
   "display_name": "Python 2",
   "language": "python",
   "name": "python2"
  },
  "language_info": {
   "codemirror_mode": {
    "name": "ipython",
    "version": 2
   },
   "file_extension": ".py",
   "mimetype": "text/x-python",
   "name": "python",
   "nbconvert_exporter": "python",
   "pygments_lexer": "ipython2",
   "version": "2.7.10"
  }
 },
 "nbformat": 4,
 "nbformat_minor": 0
}
